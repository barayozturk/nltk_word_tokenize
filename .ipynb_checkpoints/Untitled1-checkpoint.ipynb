{
 "cells": [
  {
   "cell_type": "code",
   "execution_count": 1,
   "id": "3d02c9e7",
   "metadata": {},
   "outputs": [],
   "source": [
    "import nltk"
   ]
  },
  {
   "cell_type": "code",
   "execution_count": 2,
   "id": "2940f543",
   "metadata": {},
   "outputs": [
    {
     "name": "stdout",
     "output_type": "stream",
     "text": [
      "showing info https://raw.githubusercontent.com/nltk/nltk_data/gh-pages/index.xml\n"
     ]
    },
    {
     "data": {
      "text/plain": [
       "True"
      ]
     },
     "execution_count": 2,
     "metadata": {},
     "output_type": "execute_result"
    }
   ],
   "source": [
    "nltk.download()"
   ]
  },
  {
   "cell_type": "code",
   "execution_count": 3,
   "id": "9ea4a7c4",
   "metadata": {},
   "outputs": [],
   "source": [
    "import os \n",
    "import nltk.corpus\n",
    "import pandas as pd\n",
    "import numpy as np\n",
    "\n",
    "import matplotlib.pyplot as plt\n",
    "\n",
    "from scipy import stats\n",
    "from scipy.stats import norm, skew"
   ]
  },
  {
   "cell_type": "code",
   "execution_count": 35,
   "id": "36173d0f",
   "metadata": {},
   "outputs": [],
   "source": [
    "column = [\"Word\"]"
   ]
  },
  {
   "cell_type": "code",
   "execution_count": 36,
   "id": "7f1c9530",
   "metadata": {},
   "outputs": [],
   "source": [
    "test = pd.read_csv(\"test.data\", sep=\" \", encoding='Latin-1',names=column)"
   ]
  },
  {
   "cell_type": "code",
   "execution_count": 37,
   "id": "6a43c928",
   "metadata": {},
   "outputs": [
    {
     "data": {
      "text/html": [
       "<div>\n",
       "<style scoped>\n",
       "    .dataframe tbody tr th:only-of-type {\n",
       "        vertical-align: middle;\n",
       "    }\n",
       "\n",
       "    .dataframe tbody tr th {\n",
       "        vertical-align: top;\n",
       "    }\n",
       "\n",
       "    .dataframe thead th {\n",
       "        text-align: right;\n",
       "    }\n",
       "</style>\n",
       "<table border=\"1\" class=\"dataframe\">\n",
       "  <thead>\n",
       "    <tr style=\"text-align: right;\">\n",
       "      <th></th>\n",
       "      <th>Word</th>\n",
       "    </tr>\n",
       "  </thead>\n",
       "  <tbody>\n",
       "    <tr>\n",
       "      <th>0</th>\n",
       "      <td>BC2GM000008491 Phenotypic analysis demonstrate...</td>\n",
       "    </tr>\n",
       "    <tr>\n",
       "      <th>1</th>\n",
       "      <td>BC2GM000019979 In the cervical enlargement the...</td>\n",
       "    </tr>\n",
       "    <tr>\n",
       "      <th>2</th>\n",
       "      <td>BC2GM000026289 We measured electromyograms (EM...</td>\n",
       "    </tr>\n",
       "    <tr>\n",
       "      <th>3</th>\n",
       "      <td>BC2GM000030196 A case control study (1:2) of 1...</td>\n",
       "    </tr>\n",
       "    <tr>\n",
       "      <th>4</th>\n",
       "      <td>BC2GM000099421 In the absence of shock, sepsis...</td>\n",
       "    </tr>\n",
       "  </tbody>\n",
       "</table>\n",
       "</div>"
      ],
      "text/plain": [
       "                                                Word\n",
       "0  BC2GM000008491 Phenotypic analysis demonstrate...\n",
       "1  BC2GM000019979 In the cervical enlargement the...\n",
       "2  BC2GM000026289 We measured electromyograms (EM...\n",
       "3  BC2GM000030196 A case control study (1:2) of 1...\n",
       "4  BC2GM000099421 In the absence of shock, sepsis..."
      ]
     },
     "execution_count": 37,
     "metadata": {},
     "output_type": "execute_result"
    }
   ],
   "source": [
    "test.head()"
   ]
  },
  {
   "cell_type": "code",
   "execution_count": 38,
   "id": "5bbca75d",
   "metadata": {},
   "outputs": [],
   "source": [
    "train = pd.read_csv(\"train.data\", sep=\" \", encoding='Latin-1',names=column)"
   ]
  },
  {
   "cell_type": "code",
   "execution_count": 39,
   "id": "69222a83",
   "metadata": {},
   "outputs": [
    {
     "data": {
      "text/html": [
       "<div>\n",
       "<style scoped>\n",
       "    .dataframe tbody tr th:only-of-type {\n",
       "        vertical-align: middle;\n",
       "    }\n",
       "\n",
       "    .dataframe tbody tr th {\n",
       "        vertical-align: top;\n",
       "    }\n",
       "\n",
       "    .dataframe thead th {\n",
       "        text-align: right;\n",
       "    }\n",
       "</style>\n",
       "<table border=\"1\" class=\"dataframe\">\n",
       "  <thead>\n",
       "    <tr style=\"text-align: right;\">\n",
       "      <th></th>\n",
       "      <th>Word</th>\n",
       "    </tr>\n",
       "  </thead>\n",
       "  <tbody>\n",
       "    <tr>\n",
       "      <th>0</th>\n",
       "      <td>P00001606T0076 Comparison with alkaline phosph...</td>\n",
       "    </tr>\n",
       "    <tr>\n",
       "      <th>1</th>\n",
       "      <td>P00008171T0000 Pharmacologic aspects of neonat...</td>\n",
       "    </tr>\n",
       "    <tr>\n",
       "      <th>2</th>\n",
       "      <td>P00008997A0472 When CSF [HCO3-] is shown as a ...</td>\n",
       "    </tr>\n",
       "    <tr>\n",
       "      <th>3</th>\n",
       "      <td>P00010943A0733 Flurazepam thus appears to be a...</td>\n",
       "    </tr>\n",
       "    <tr>\n",
       "      <th>4</th>\n",
       "      <td>P00012653T0045 Beta blocking agents.</td>\n",
       "    </tr>\n",
       "  </tbody>\n",
       "</table>\n",
       "</div>"
      ],
      "text/plain": [
       "                                                Word\n",
       "0  P00001606T0076 Comparison with alkaline phosph...\n",
       "1  P00008171T0000 Pharmacologic aspects of neonat...\n",
       "2  P00008997A0472 When CSF [HCO3-] is shown as a ...\n",
       "3  P00010943A0733 Flurazepam thus appears to be a...\n",
       "4               P00012653T0045 Beta blocking agents."
      ]
     },
     "execution_count": 39,
     "metadata": {},
     "output_type": "execute_result"
    }
   ],
   "source": [
    "train.head()"
   ]
  },
  {
   "cell_type": "code",
   "execution_count": null,
   "id": "9d3e30eb",
   "metadata": {},
   "outputs": [],
   "source": [
    "from nltk.corpus import state_union\n",
    "from nltk.tokenize import PunktSentenceTokenizer\n",
    "\n",
    "train_data = test[\"Word\"]\n",
    "sample_data = train[\"Word\"]\n",
    "\n",
    "customsent_tokenizer = PunktSentenceTokenizer(train_data)\n",
    "\n",
    "tokenized = customsent_tokenizer.tokenize(sample_data)\n",
    "\n",
    "def process_content():\n",
    "    try:\n",
    "        for i in tokenized:\n",
    "            words = nltk.word_tokenize(i)\n",
    "            tagged = nltk.pos_tag(words)\n",
    "            print(tagged,'\\n')\n",
    "    except Exception as e:\n",
    "        print(str(e))\n",
    "        \n",
    "process_content()"
   ]
  }
 ],
 "metadata": {
  "kernelspec": {
   "display_name": "Python 3 (ipykernel)",
   "language": "python",
   "name": "python3"
  },
  "language_info": {
   "codemirror_mode": {
    "name": "ipython",
    "version": 3
   },
   "file_extension": ".py",
   "mimetype": "text/x-python",
   "name": "python",
   "nbconvert_exporter": "python",
   "pygments_lexer": "ipython3",
   "version": "3.9.7"
  }
 },
 "nbformat": 4,
 "nbformat_minor": 5
}
